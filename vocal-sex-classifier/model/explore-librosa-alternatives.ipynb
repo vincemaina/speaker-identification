{
 "cells": [
  {
   "cell_type": "markdown",
   "metadata": {},
   "source": [
    "# Explore Librosa Alternatives\n",
    "\n",
    "Librosa is a _heavy_ package. The purpose of this notebook is to determine which features are the most effective, and whether we can extract them manually (using scipy + numpy) without the librosa package."
   ]
  },
  {
   "cell_type": "code",
   "execution_count": 4,
   "metadata": {},
   "outputs": [
    {
     "ename": "ModuleNotFoundError",
     "evalue": "No module named 'textgrids'",
     "output_type": "error",
     "traceback": [
      "\u001b[0;31m---------------------------------------------------------------------------\u001b[0m",
      "\u001b[0;31mModuleNotFoundError\u001b[0m                       Traceback (most recent call last)",
      "Cell \u001b[0;32mIn[4], line 6\u001b[0m\n\u001b[1;32m      4\u001b[0m \u001b[38;5;28;01mimport\u001b[39;00m\u001b[38;5;250m \u001b[39m\u001b[38;5;21;01mpandas\u001b[39;00m\u001b[38;5;250m \u001b[39m\u001b[38;5;28;01mas\u001b[39;00m\u001b[38;5;250m \u001b[39m\u001b[38;5;21;01mpd\u001b[39;00m\n\u001b[1;32m      5\u001b[0m \u001b[38;5;28;01mimport\u001b[39;00m\u001b[38;5;250m \u001b[39m\u001b[38;5;21;01mparselmouth\u001b[39;00m\n\u001b[0;32m----> 6\u001b[0m \u001b[38;5;28;01mimport\u001b[39;00m\u001b[38;5;250m \u001b[39m\u001b[38;5;21;01mtextgrids\u001b[39;00m\n",
      "\u001b[0;31mModuleNotFoundError\u001b[0m: No module named 'textgrids'"
     ]
    }
   ],
   "source": [
    "import librosa\n",
    "import scipy\n",
    "import numpy as np\n",
    "import pandas as pd\n",
    "import parselmouth"
   ]
  },
  {
   "cell_type": "markdown",
   "metadata": {},
   "source": [
    "Let's start by retrieving our dataframe created in the data_loading_cleaning.ipynb notebook."
   ]
  },
  {
   "cell_type": "code",
   "execution_count": null,
   "metadata": {},
   "outputs": [
    {
     "data": {
      "text/html": [
       "<div>\n",
       "<style scoped>\n",
       "    .dataframe tbody tr th:only-of-type {\n",
       "        vertical-align: middle;\n",
       "    }\n",
       "\n",
       "    .dataframe tbody tr th {\n",
       "        vertical-align: top;\n",
       "    }\n",
       "\n",
       "    .dataframe thead th {\n",
       "        text-align: right;\n",
       "    }\n",
       "</style>\n",
       "<table border=\"1\" class=\"dataframe\">\n",
       "  <thead>\n",
       "    <tr style=\"text-align: right;\">\n",
       "      <th></th>\n",
       "      <th>path</th>\n",
       "      <th>gender</th>\n",
       "    </tr>\n",
       "  </thead>\n",
       "  <tbody>\n",
       "    <tr>\n",
       "      <th>0</th>\n",
       "      <td>common_voice_en_41534732.mp3</td>\n",
       "      <td>male_masculine</td>\n",
       "    </tr>\n",
       "    <tr>\n",
       "      <th>1</th>\n",
       "      <td>common_voice_en_41472897.mp3</td>\n",
       "      <td>male_masculine</td>\n",
       "    </tr>\n",
       "    <tr>\n",
       "      <th>2</th>\n",
       "      <td>common_voice_en_41909191.mp3</td>\n",
       "      <td>male_masculine</td>\n",
       "    </tr>\n",
       "    <tr>\n",
       "      <th>3</th>\n",
       "      <td>common_voice_en_41650031.mp3</td>\n",
       "      <td>male_masculine</td>\n",
       "    </tr>\n",
       "    <tr>\n",
       "      <th>4</th>\n",
       "      <td>common_voice_en_41888663.mp3</td>\n",
       "      <td>male_masculine</td>\n",
       "    </tr>\n",
       "  </tbody>\n",
       "</table>\n",
       "</div>"
      ],
      "text/plain": [
       "                           path          gender\n",
       "0  common_voice_en_41534732.mp3  male_masculine\n",
       "1  common_voice_en_41472897.mp3  male_masculine\n",
       "2  common_voice_en_41909191.mp3  male_masculine\n",
       "3  common_voice_en_41650031.mp3  male_masculine\n",
       "4  common_voice_en_41888663.mp3  male_masculine"
      ]
     },
     "execution_count": 2,
     "metadata": {},
     "output_type": "execute_result"
    }
   ],
   "source": [
    "df = pd.read_csv(\"df_cleaned.csv\")\n",
    "df.head()"
   ]
  },
  {
   "cell_type": "code",
   "execution_count": 3,
   "metadata": {},
   "outputs": [],
   "source": [
    "def extract_librosa(y, sr):\n",
    "    \n",
    "    snd = parselmouth.Sound(y, sampling_frequency=sr)\n",
    "    formants = snd.to_formant_burg()  # Extract formants\n",
    "    \n",
    "    # Extract first 3 formant frequencies at a specific time (e.g., 0.5s)\n",
    "    F1 = formants.get_value_at_time(1, 0.5)\n",
    "    F2 = formants.get_value_at_time(2, 0.5)\n",
    "    F3 = formants.get_value_at_time(3, 0.5)\n",
    "    \n",
    "    print(f\"F1: {F1}, F2: {F2}, F3: {F3}\")\n",
    "    \n",
    "    f0, voiced_flag, voiced_probs = librosa.pyin(y, fmin=50, fmax=300)\n",
    "    \n",
    "    harmonicity = snd.to_harmonicity()\n",
    "      \n",
    "    return {\n",
    "        \"spectral_centroid\": librosa.feature.spectral_centroid(y=y, sr=sr),\n",
    "        \"spectral_bandwidth\": librosa.feature.spectral_bandwidth(y=y, sr=sr),\n",
    "        \"spectral_flatness\": librosa.feature.spectral_flatness(y=y),\n",
    "        \"spectral_rolloff\": librosa.feature.spectral_rolloff(y=y, sr=sr),\n",
    "        \"spectral_contrast\": librosa.feature.spectral_contrast(y=y, sr=sr),\n",
    "        \"mfcc\": librosa.feature.mfcc(y=y, sr=sr),\n",
    "        \"fundamental_frequency\": librosa.pyin(y, fmin=50, fmax=300)[0]\n",
    "    }\n",
    "    \n",
    "def extract_manual(y, sr):\n",
    "    return {\n",
    "        \"spectral_centroid\": librosa.feature.spectral_centroid(y=y, sr=sr),\n",
    "        \"spectral_bandwidth\": librosa.feature.spectral_bandwidth(y=y, sr=sr),\n",
    "        \"spectral_flatness\": librosa.feature.spectral_flatness(y=y),\n",
    "        \"spectral_rolloff\": librosa.feature.spectral_rolloff(y=y, sr=sr),\n",
    "        \"spectral_contrast\": librosa.feature.spectral_contrast(y=y, sr=sr)\n",
    "    }"
   ]
  }
 ],
 "metadata": {
  "kernelspec": {
   "display_name": ".venv",
   "language": "python",
   "name": "python3"
  },
  "language_info": {
   "codemirror_mode": {
    "name": "ipython",
    "version": 3
   },
   "file_extension": ".py",
   "mimetype": "text/x-python",
   "name": "python",
   "nbconvert_exporter": "python",
   "pygments_lexer": "ipython3",
   "version": "3.12.2"
  }
 },
 "nbformat": 4,
 "nbformat_minor": 2
}
